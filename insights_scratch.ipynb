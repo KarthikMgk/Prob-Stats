{
 "cells": [
  {
   "cell_type": "code",
   "execution_count": 1,
   "metadata": {},
   "outputs": [],
   "source": [
    "import pandas as pd\n",
    "import numpy as np"
   ]
  },
  {
   "cell_type": "code",
   "execution_count": 2,
   "metadata": {},
   "outputs": [],
   "source": [
    "df = pd.read_csv('Combined_red_flags_19_2_2020.csv')"
   ]
  },
  {
   "cell_type": "code",
   "execution_count": 3,
   "metadata": {},
   "outputs": [],
   "source": [
    "from sklearn.utils import shuffle\n",
    "df = shuffle(df)"
   ]
  },
  {
   "cell_type": "code",
   "execution_count": 4,
   "metadata": {},
   "outputs": [
    {
     "data": {
      "text/html": [
       "<div>\n",
       "<style scoped>\n",
       "    .dataframe tbody tr th:only-of-type {\n",
       "        vertical-align: middle;\n",
       "    }\n",
       "\n",
       "    .dataframe tbody tr th {\n",
       "        vertical-align: top;\n",
       "    }\n",
       "\n",
       "    .dataframe thead th {\n",
       "        text-align: right;\n",
       "    }\n",
       "</style>\n",
       "<table border=\"1\" class=\"dataframe\">\n",
       "  <thead>\n",
       "    <tr style=\"text-align: right;\">\n",
       "      <th></th>\n",
       "      <th>selects</th>\n",
       "      <th>distincts</th>\n",
       "      <th>distinct values</th>\n",
       "      <th>red flags</th>\n",
       "      <th>query</th>\n",
       "    </tr>\n",
       "  </thead>\n",
       "  <tbody>\n",
       "    <tr>\n",
       "      <th>1119</th>\n",
       "      <td>Quantity</td>\n",
       "      <td>Category Level 1</td>\n",
       "      <td>Transportation and Storage and Mail Services</td>\n",
       "      <td>Transportation and Storage and Mail Services h...</td>\n",
       "      <td>NaN</td>\n",
       "    </tr>\n",
       "    <tr>\n",
       "      <th>281</th>\n",
       "      <td>Payment</td>\n",
       "      <td>Category Level 1</td>\n",
       "      <td>Healthcare Services</td>\n",
       "      <td>Industrial Cleaning Services has the maximum g...</td>\n",
       "      <td>NaN</td>\n",
       "    </tr>\n",
       "    <tr>\n",
       "      <th>950</th>\n",
       "      <td>Delayed PO Payment</td>\n",
       "      <td>Category Level 1</td>\n",
       "      <td>Healthcare Services</td>\n",
       "      <td>Healthcare Services has 3380 times more Delaye...</td>\n",
       "      <td>NaN</td>\n",
       "    </tr>\n",
       "    <tr>\n",
       "      <th>506</th>\n",
       "      <td>Paid Amount</td>\n",
       "      <td>Category Level 1</td>\n",
       "      <td>Structures and Building and Construction and M...</td>\n",
       "      <td>Structures and Building and Construction and M...</td>\n",
       "      <td>NaN</td>\n",
       "    </tr>\n",
       "    <tr>\n",
       "      <th>434</th>\n",
       "      <td>Delayed PO Payment</td>\n",
       "      <td>Category Level 1</td>\n",
       "      <td>Food Beverage and Tobacco Products</td>\n",
       "      <td>21 Category Level 1 Engineering and Research a...</td>\n",
       "      <td>NaN</td>\n",
       "    </tr>\n",
       "  </tbody>\n",
       "</table>\n",
       "</div>"
      ],
      "text/plain": [
       "                 selects         distincts  \\\n",
       "1119            Quantity  Category Level 1   \n",
       "281              Payment  Category Level 1   \n",
       "950   Delayed PO Payment  Category Level 1   \n",
       "506          Paid Amount  Category Level 1   \n",
       "434   Delayed PO Payment  Category Level 1   \n",
       "\n",
       "                                        distinct values  \\\n",
       "1119       Transportation and Storage and Mail Services   \n",
       "281                                 Healthcare Services   \n",
       "950                                 Healthcare Services   \n",
       "506   Structures and Building and Construction and M...   \n",
       "434                  Food Beverage and Tobacco Products   \n",
       "\n",
       "                                              red flags query  \n",
       "1119  Transportation and Storage and Mail Services h...   NaN  \n",
       "281   Industrial Cleaning Services has the maximum g...   NaN  \n",
       "950   Healthcare Services has 3380 times more Delaye...   NaN  \n",
       "506   Structures and Building and Construction and M...   NaN  \n",
       "434   21 Category Level 1 Engineering and Research a...   NaN  "
      ]
     },
     "execution_count": 4,
     "metadata": {},
     "output_type": "execute_result"
    }
   ],
   "source": [
    "df.head()"
   ]
  },
  {
   "cell_type": "code",
   "execution_count": 5,
   "metadata": {},
   "outputs": [],
   "source": [
    "df.to_csv('combined_red_flags_20_2_2020.csv', index=False)"
   ]
  },
  {
   "cell_type": "code",
   "execution_count": 2,
   "metadata": {},
   "outputs": [],
   "source": [
    "df = pd.read_csv('red_flags_orm_templates.csv')"
   ]
  },
  {
   "cell_type": "code",
   "execution_count": 8,
   "metadata": {},
   "outputs": [
    {
     "data": {
      "text/plain": [
       "0     Time Comparison\n",
       "1     Time Comparison\n",
       "2     Time Comparison\n",
       "3     Time Comparison\n",
       "4     Time Comparison\n",
       "           ...       \n",
       "72       Contribution\n",
       "73       Contribution\n",
       "74       Contribution\n",
       "75         Comparison\n",
       "76         Comparison\n",
       "Name: Analysis Type, Length: 77, dtype: object"
      ]
     },
     "execution_count": 8,
     "metadata": {},
     "output_type": "execute_result"
    }
   ],
   "source": [
    "df['Analysis Type']"
   ]
  },
  {
   "cell_type": "code",
   "execution_count": 13,
   "metadata": {},
   "outputs": [
    {
     "data": {
      "text/plain": [
       "'{\"table_id\":\"\",\"operators_prefix\":\"percentage_change_in\",\"operators_suffix\":\"yearly\",\"measures\":[],\"by_dimension_values\":[],\"in_dimension_values\":[],\"in_time_dimension_values\":[],\"by_time_dimension_values\":[],\"conditionals\":[],\"others\":[],\"tablename\":\"\",\"database\":\"\"}'"
      ]
     },
     "execution_count": 13,
     "metadata": {},
     "output_type": "execute_result"
    }
   ],
   "source": [
    "df['ORM Structure'].loc[(df['Analysis Type'] == 'Time Comparison') & (df['Statement Contains'] == 'compared to the last year')].iloc[0]"
   ]
  },
  {
   "cell_type": "code",
   "execution_count": null,
   "metadata": {},
   "outputs": [],
   "source": []
  },
  {
   "cell_type": "code",
   "execution_count": null,
   "metadata": {},
   "outputs": [],
   "source": []
  },
  {
   "cell_type": "code",
   "execution_count": 1,
   "metadata": {
    "ExecuteTime": {
     "end_time": "2020-03-16T17:35:31.800435Z",
     "start_time": "2020-03-16T17:35:25.229413Z"
    }
   },
   "outputs": [],
   "source": [
    "#imports\n",
    "import pandas as pd\n",
    "import numpy as np\n",
    "import sys\n",
    "from tqdm import tqdm\n",
    "import os\n",
    "import ast\n",
    "import pymysql\n",
    "import itertools\n",
    "from clickhouse_driver import Client\n",
    "from queries_for_insights import *\n",
    "import traceback\n",
    "\n",
    "# path = os.path.join(os.path.dirname(__file__))\n",
    "\n",
    "host = \"sia.ch01hqj8p0kh.ap-south-1.rds.amazonaws.com\"\n",
    "dbname = \"kaggle_procurement\"\n",
    "user = \"sia_mumbai_dev\"\n",
    "password = \"Forty4Hz$admin2020\"\n",
    "conn = pymysql.connect(host, user=user, passwd=password, db=dbname)\n",
    "df = pd.read_sql('SELECT * FROM data_lookup', con=conn)\n",
    "select_df = pd.read_sql('SELECT * FROM select_lookup', con=conn)\n",
    "\n",
    "clickhouse_client = Client(host='13.235.187.249', user='forty4hz_ro', password='Forty4Hz_Ro@2020')\n",
    "\n",
    "vendor_invoice = pd.read_csv('C:/Users/karthik/Documents/GitHub/Forty4Hz_Flask/red_flags/vendor_invoice_dbeaver_03_02_20.csv')\n",
    "contract = pd.read_csv('C:/Users/karthik/Documents/GitHub/Forty4Hz_Flask/red_flags/contract_dbeaver_03_02_20.csv')\n",
    "pr_to_po = pd.read_csv('C:/Users/karthik/Documents/GitHub/Forty4Hz_Flask/red_flags/pr_to_po_dbeaver_03_02_20.csv')\n",
    "source_to_contract = pd.read_csv('C:/Users/karthik/Documents/GitHub/Forty4Hz_Flask/red_flags/source_to_contract_dbeaver_03_02_20.csv')\n",
    "\n",
    "tables_map = {\n",
    "    1:contract,\n",
    "    2:pr_to_po,\n",
    "    3:source_to_contract,\n",
    "    5:vendor_invoice\n",
    "}\n",
    "\n",
    "tables_string_map = {\n",
    "    1:'contract',\n",
    "    2:'pr_to_po',\n",
    "    3:'source_to_contract',\n",
    "    5:'vendor_invoice'\n",
    "}"
   ]
  },
  {
   "cell_type": "code",
   "execution_count": 14,
   "metadata": {
    "ExecuteTime": {
     "end_time": "2020-03-16T17:26:31.355148Z",
     "start_time": "2020-03-16T17:26:30.863746Z"
    }
   },
   "outputs": [
    {
     "data": {
      "text/html": [
       "<div>\n",
       "<style scoped>\n",
       "    .dataframe tbody tr th:only-of-type {\n",
       "        vertical-align: middle;\n",
       "    }\n",
       "\n",
       "    .dataframe tbody tr th {\n",
       "        vertical-align: top;\n",
       "    }\n",
       "\n",
       "    .dataframe thead th {\n",
       "        text-align: right;\n",
       "    }\n",
       "</style>\n",
       "<table border=\"1\" class=\"dataframe\">\n",
       "  <thead>\n",
       "    <tr style=\"text-align: right;\">\n",
       "      <th></th>\n",
       "      <th>Vendor</th>\n",
       "    </tr>\n",
       "    <tr>\n",
       "      <th>Item</th>\n",
       "      <th></th>\n",
       "    </tr>\n",
       "  </thead>\n",
       "  <tbody>\n",
       "    <tr>\n",
       "      <th>! year Repair Service Advantage</th>\n",
       "      <td>1</td>\n",
       "    </tr>\n",
       "    <tr>\n",
       "      <th>\"0L3LWZZ1-ER1GS - Symc Backup Exec 2014 Server Win Per Server Renewal Essential</th>\n",
       "      <td>1</td>\n",
       "    </tr>\n",
       "    <tr>\n",
       "      <th>\"12RU Mobile rack equipped with locking front and rear doors. Top grommet Acryli</th>\n",
       "      <td>1</td>\n",
       "    </tr>\n",
       "    <tr>\n",
       "      <th>\"A.O. SMITH\" MOTOR 1/4 HP, 115V, 5.4 A</th>\n",
       "      <td>1</td>\n",
       "    </tr>\n",
       "    <tr>\n",
       "      <th>\"Advice for New Parents Guide\" Print Job</th>\n",
       "      <td>1</td>\n",
       "    </tr>\n",
       "    <tr>\n",
       "      <th>...</th>\n",
       "      <td>...</td>\n",
       "    </tr>\n",
       "    <tr>\n",
       "      <th>zuchini 40#(d91)50446229</th>\n",
       "      <td>1</td>\n",
       "    </tr>\n",
       "    <tr>\n",
       "      <th>zuchini40#(d91)50446229</th>\n",
       "      <td>1</td>\n",
       "    </tr>\n",
       "    <tr>\n",
       "      <th>zurn NHZN or equal</th>\n",
       "      <td>1</td>\n",
       "    </tr>\n",
       "    <tr>\n",
       "      <th>zurn cover</th>\n",
       "      <td>1</td>\n",
       "    </tr>\n",
       "    <tr>\n",
       "      <th>ÃƒÆ’Ã‚Â¢Ãƒâ€šÃ‚â‚¬Ãƒâ€šÃ‚â€¹iMac 21.5-inch  /  2.7GHz Quad-core Intel Core i5, Turbo Boost up to 3.2GHz</th>\n",
       "      <td>1</td>\n",
       "    </tr>\n",
       "  </tbody>\n",
       "</table>\n",
       "<p>180025 rows Ã— 1 columns</p>\n",
       "</div>"
      ],
      "text/plain": [
       "                                                    Vendor\n",
       "Item                                                      \n",
       "! year Repair Service Advantage                          1\n",
       "\"0L3LWZZ1-ER1GS - Symc Backup Exec 2014 Server ...       1\n",
       "\"12RU Mobile rack equipped with locking front a...       1\n",
       "\"A.O. SMITH\" MOTOR 1/4 HP, 115V, 5.4 A                   1\n",
       "\"Advice for New Parents Guide\" Print Job                 1\n",
       "...                                                    ...\n",
       "zuchini 40#(d91)50446229                                 1\n",
       "zuchini40#(d91)50446229                                  1\n",
       "zurn NHZN or equal                                       1\n",
       "zurn cover                                               1\n",
       "ÃƒÆ’Ã‚Â¢Ãƒâ€šÃ‚â‚¬Ãƒâ€šÃ‚â€¹iMac 21.5-inch  /  2.7GHz Quad-core...       1\n",
       "\n",
       "[180025 rows x 1 columns]"
      ]
     },
     "execution_count": 14,
     "metadata": {},
     "output_type": "execute_result"
    }
   ],
   "source": [
    "vendor_invoice.groupby(by=['Item']).agg({'Vendor':'count'})"
   ]
  },
  {
   "cell_type": "code",
   "execution_count": 19,
   "metadata": {
    "ExecuteTime": {
     "end_time": "2020-03-16T19:12:14.649510Z",
     "start_time": "2020-03-16T19:12:14.601540Z"
    }
   },
   "outputs": [
    {
     "data": {
      "text/plain": [
       "64"
      ]
     },
     "execution_count": 19,
     "metadata": {},
     "output_type": "execute_result"
    }
   ],
   "source": [
    "len(vendor_invoice['Vendor'][vendor_invoice['Item'] == 'IT Consulting Services'].drop_duplicates())"
   ]
  },
  {
   "cell_type": "code",
   "execution_count": 5,
   "metadata": {
    "ExecuteTime": {
     "end_time": "2020-03-16T19:08:17.364121Z",
     "start_time": "2020-03-16T19:08:16.779368Z"
    }
   },
   "outputs": [],
   "source": [
    "gb_object = vendor_invoice.groupby(by=['Item']).agg({'Vendor':'count'}).sort_values(by=['Vendor'], ascending=False)"
   ]
  },
  {
   "cell_type": "code",
   "execution_count": 22,
   "metadata": {
    "ExecuteTime": {
     "end_time": "2020-03-17T11:45:59.382956Z",
     "start_time": "2020-03-17T11:45:57.174277Z"
    }
   },
   "outputs": [
    {
     "data": {
      "text/html": [
       "<div>\n",
       "<style scoped>\n",
       "    .dataframe tbody tr th:only-of-type {\n",
       "        vertical-align: middle;\n",
       "    }\n",
       "\n",
       "    .dataframe tbody tr th {\n",
       "        vertical-align: top;\n",
       "    }\n",
       "\n",
       "    .dataframe thead th {\n",
       "        text-align: right;\n",
       "    }\n",
       "</style>\n",
       "<table border=\"1\" class=\"dataframe\">\n",
       "  <thead>\n",
       "    <tr style=\"text-align: right;\">\n",
       "      <th></th>\n",
       "      <th>Vendor</th>\n",
       "    </tr>\n",
       "    <tr>\n",
       "      <th>Item</th>\n",
       "      <th></th>\n",
       "    </tr>\n",
       "  </thead>\n",
       "  <tbody>\n",
       "    <tr>\n",
       "      <th>Medical Supplies</th>\n",
       "      <td>2916</td>\n",
       "    </tr>\n",
       "    <tr>\n",
       "      <th>Contract</th>\n",
       "      <td>2092</td>\n",
       "    </tr>\n",
       "    <tr>\n",
       "      <th>ew</th>\n",
       "      <td>1539</td>\n",
       "    </tr>\n",
       "    <tr>\n",
       "      <th>Expert Witness</th>\n",
       "      <td>1317</td>\n",
       "    </tr>\n",
       "    <tr>\n",
       "      <th>medical vocational training</th>\n",
       "      <td>1092</td>\n",
       "    </tr>\n",
       "    <tr>\n",
       "      <th>...</th>\n",
       "      <td>...</td>\n",
       "    </tr>\n",
       "    <tr>\n",
       "      <th>Whole Food Juice Tubes</th>\n",
       "      <td>0</td>\n",
       "    </tr>\n",
       "    <tr>\n",
       "      <th>POULTRY LOG  2/9 - 10 LBS PER CASE</th>\n",
       "      <td>0</td>\n",
       "    </tr>\n",
       "    <tr>\n",
       "      <th>HP Tipping Point</th>\n",
       "      <td>0</td>\n",
       "    </tr>\n",
       "    <tr>\n",
       "      <th>TRODAT PROFESSIONAL - MODEL #: 5460 SELF-INKING (BLUE TEXT &amp; RED DATE)</th>\n",
       "      <td>0</td>\n",
       "    </tr>\n",
       "    <tr>\n",
       "      <th>Organic Whole Fruit Pops</th>\n",
       "      <td>0</td>\n",
       "    </tr>\n",
       "  </tbody>\n",
       "</table>\n",
       "<p>180025 rows Ã— 1 columns</p>\n",
       "</div>"
      ],
      "text/plain": [
       "                                                    Vendor\n",
       "Item                                                      \n",
       "Medical Supplies                                      2916\n",
       "Contract                                              2092\n",
       "ew                                                    1539\n",
       "Expert Witness                                        1317\n",
       "medical vocational training                           1092\n",
       "...                                                    ...\n",
       "Whole Food Juice Tubes                                   0\n",
       "POULTRY LOG  2/9 - 10 LBS PER CASE                       0\n",
       "HP Tipping Point                                         0\n",
       "TRODAT PROFESSIONAL - MODEL #: 5460 SELF-INKING...       0\n",
       "Organic Whole Fruit Pops                                 0\n",
       "\n",
       "[180025 rows x 1 columns]"
      ]
     },
     "execution_count": 22,
     "metadata": {},
     "output_type": "execute_result"
    }
   ],
   "source": [
    "gb_object.sort_values(by=['Vendor'], ascending=False)"
   ]
  },
  {
   "cell_type": "code",
   "execution_count": null,
   "metadata": {},
   "outputs": [],
   "source": []
  },
  {
   "cell_type": "code",
   "execution_count": 6,
   "metadata": {
    "ExecuteTime": {
     "end_time": "2020-03-16T19:08:21.432645Z",
     "start_time": "2020-03-16T19:08:21.427647Z"
    }
   },
   "outputs": [],
   "source": [
    "from tqdm import tqdm"
   ]
  },
  {
   "cell_type": "code",
   "execution_count": 8,
   "metadata": {
    "ExecuteTime": {
     "end_time": "2020-03-16T19:08:54.502211Z",
     "start_time": "2020-03-16T19:08:49.081466Z"
    }
   },
   "outputs": [
    {
     "name": "stderr",
     "output_type": "stream",
     "text": [
      "  0%|                                                                             | 4/180025 [00:00<1:32:57, 32.27it/s]"
     ]
    },
    {
     "name": "stdout",
     "output_type": "stream",
     "text": [
      "Medical Supplies\n",
      "Contract\n",
      "ew\n",
      "Expert Witness\n",
      "medical vocational training\n",
      "Toner\n",
      "contract\n",
      "Office Supplies\n"
     ]
    },
    {
     "name": "stderr",
     "output_type": "stream",
     "text": [
      "  0%|                                                                            | 12/180025 [00:00<1:29:32, 33.51it/s]"
     ]
    },
    {
     "name": "stdout",
     "output_type": "stream",
     "text": [
      "Dental Supplies\n",
      "toner\n",
      "Service Contract\n",
      "Vocational Rehabilitation Services\n",
      "Low Income Home Energy Assistance Program\n",
      "medical supplies\n",
      "tra\n",
      "medical vocational training services\n"
     ]
    },
    {
     "name": "stderr",
     "output_type": "stream",
     "text": [
      "  0%|                                                                            | 20/180025 [00:00<1:25:38, 35.03it/s]"
     ]
    },
    {
     "name": "stdout",
     "output_type": "stream",
     "text": [
      "toners\n",
      "Medical Vocational Training Services\n",
      "TAA\n",
      "lab supply\n",
      "office supplies\n",
      "Grant\n",
      "hired equipment\n",
      "Community Services Block Grant\n"
     ]
    },
    {
     "name": "stderr",
     "output_type": "stream",
     "text": [
      "  0%|                                                                            | 28/180025 [00:00<1:25:40, 35.02it/s]"
     ]
    },
    {
     "name": "stdout",
     "output_type": "stream",
     "text": [
      "asphalt\n",
      "software\n",
      "TRA\n",
      "Software\n",
      "chairs\n",
      "VARIOUS DRUGS\n",
      "Amendment 1\n",
      "lab supplies\n"
     ]
    },
    {
     "name": "stderr",
     "output_type": "stream",
     "text": [
      "  0%|                                                                            | 36/180025 [00:01<1:24:11, 35.63it/s]"
     ]
    },
    {
     "name": "stdout",
     "output_type": "stream",
     "text": [
      "Community Service Block Grant\n",
      "Confidential\n",
      "carrier replacement\n",
      "Eyeglasses\n",
      "Medical supplies\n",
      "Training\n"
     ]
    },
    {
     "name": "stderr",
     "output_type": "stream",
     "text": [
      "\r",
      "  0%|                                                                            | 40/180025 [00:01<1:35:21, 31.46it/s]"
     ]
    },
    {
     "name": "stdout",
     "output_type": "stream",
     "text": [
      "Pens\n",
      "WATER TENDER\n",
      "Direct Service\n",
      "California Tire Recycle Fee\n",
      "Department of Energy Weatherization Assistance Program\n"
     ]
    },
    {
     "name": "stderr",
     "output_type": "stream",
     "text": [
      "  0%|                                                                            | 48/180025 [00:01<1:42:44, 29.20it/s]"
     ]
    },
    {
     "name": "stdout",
     "output_type": "stream",
     "text": [
      "vest stab\n",
      "Paper\n",
      "SOFT BODY ARMOR\n",
      "Copier Maintenance\n",
      "PHPPS - PD/EP\n",
      "Water Tender\n"
     ]
    },
    {
     "name": "stderr",
     "output_type": "stream",
     "text": [
      "  0%|                                                                            | 56/180025 [00:01<1:35:36, 31.37it/s]"
     ]
    },
    {
     "name": "stdout",
     "output_type": "stream",
     "text": [
      "CA RECYCLE FEE\n",
      "Maintenance\n",
      "confidential\n",
      "software maintenance\n",
      "Chairs\n",
      "Tires\n",
      "Software Maintenance\n"
     ]
    },
    {
     "name": "stderr",
     "output_type": "stream",
     "text": [
      "\r",
      "  0%|                                                                            | 60/180025 [00:01<1:38:51, 30.34it/s]"
     ]
    },
    {
     "name": "stdout",
     "output_type": "stream",
     "text": [
      "Gloves\n",
      "TONER\n",
      "Janitorial Services\n",
      "paper\n",
      "CDCR Forms\n",
      "CA Recycle Fee\n",
      "forms\n",
      "food"
     ]
    },
    {
     "name": "stderr",
     "output_type": "stream",
     "text": [
      "  0%|                                                                            | 67/180025 [00:02<1:54:24, 26.22it/s]"
     ]
    },
    {
     "name": "stdout",
     "output_type": "stream",
     "text": [
      "\n",
      "WIA\n",
      "Folders\n",
      "vocational rehabilitation services\n",
      "Legal Services\n",
      "Fresh Produce"
     ]
    },
    {
     "name": "stderr",
     "output_type": "stream",
     "text": [
      "  0%|                                                                            | 74/180025 [00:02<1:46:39, 28.12it/s]"
     ]
    },
    {
     "name": "stdout",
     "output_type": "stream",
     "text": [
      "\n",
      "HIRED EQUIPMENT\n",
      "drugs/supplies\n",
      "ammunition\n",
      "water tender\n",
      "chair\n",
      "E-Waste Fee\n"
     ]
    },
    {
     "name": "stderr",
     "output_type": "stream",
     "text": [
      "  0%|                                                                            | 82/180025 [00:02<1:35:50, 31.29it/s]"
     ]
    },
    {
     "name": "stdout",
     "output_type": "stream",
     "text": [
      "traffic sign\n",
      "DOZER\n",
      "Software License\n",
      "PARTS PURCHASE FOR CALFIRE AIRCRAFT\n",
      "chicken\n",
      "Ca Recycle Fee\n",
      "Asphalt\n",
      "office supply\n"
     ]
    },
    {
     "name": "stderr",
     "output_type": "stream",
     "text": [
      "  0%|                                                                            | 90/180025 [00:02<1:28:14, 33.99it/s]"
     ]
    },
    {
     "name": "stdout",
     "output_type": "stream",
     "text": [
      "Dental supplies\n",
      "vest combo\n",
      "dental supplies\n",
      "Local Assistance Grant\n",
      "bread\n",
      "Amendment 2\n",
      "MED SUPPLY LOT\n",
      "Diesel Fuel\n"
     ]
    },
    {
     "name": "stderr",
     "output_type": "stream",
     "text": [
      "\r",
      "  0%|                                                                            | 94/180025 [00:02<1:26:42, 34.58it/s]"
     ]
    },
    {
     "name": "stdout",
     "output_type": "stream",
     "text": [
      "gasoline\n",
      "gloves\n",
      "tires\n",
      "Chair\n",
      "Binders\n",
      "Dozer\n",
      "CHAIRS\n"
     ]
    },
    {
     "name": "stderr",
     "output_type": "stream",
     "text": [
      "  0%|                                                                           | 102/180025 [00:03<1:24:23, 35.54it/s]"
     ]
    },
    {
     "name": "stdout",
     "output_type": "stream",
     "text": [
      "Laboratory Supplies\n",
      "Fish Food\n",
      "Fuel\n",
      "Copier Maintenance Renewal\n",
      "propane\n",
      "FOOD\n",
      "milk\n",
      "Janitorial Supplies\n"
     ]
    },
    {
     "name": "stderr",
     "output_type": "stream",
     "text": [
      "  0%|                                                                           | 110/180025 [00:03<1:24:36, 35.44it/s]"
     ]
    },
    {
     "name": "stdout",
     "output_type": "stream",
     "text": [
      "EVERY 15 MINUTES\n",
      "Gasoline\n",
      "Pharmaceuticals\n",
      "Amendment #1\n",
      "DRUGS\n",
      "Produce\n",
      "lab equipment\n"
     ]
    },
    {
     "name": "stderr",
     "output_type": "stream",
     "text": [
      "  0%|                                                                           | 118/180025 [00:03<1:22:08, 36.50it/s]"
     ]
    },
    {
     "name": "stdout",
     "output_type": "stream",
     "text": [
      "diesel\n",
      "Labels\n",
      "C.O. 001\n",
      "Toner Cartridges\n",
      "Hired Equipment\n",
      "CSP-SQ ORDER\n",
      "GASOLINE\n",
      "copier maintenance\n"
     ]
    },
    {
     "name": "stderr",
     "output_type": "stream",
     "text": [
      "  0%|                                                                           | 126/180025 [00:03<1:29:48, 33.39it/s]"
     ]
    },
    {
     "name": "stdout",
     "output_type": "stream",
     "text": [
      "Batteries\n",
      "AMMUNITION\n",
      "Meeting Room Rental\n",
      "Forms\n",
      "BREAD\n",
      "Printer"
     ]
    },
    {
     "name": "stderr",
     "output_type": "stream",
     "text": [
      "\r",
      "  0%|                                                                           | 130/180025 [00:03<1:34:33, 31.71it/s]"
     ]
    },
    {
     "name": "stdout",
     "output_type": "stream",
     "text": [
      "\n",
      "eggs\n",
      "cheese\n",
      "CARBONLESS PAPER\n",
      "training\n",
      "Battery\n",
      "Recycling Fee\n"
     ]
    },
    {
     "name": "stderr",
     "output_type": "stream",
     "text": [
      "  0%|                                                                           | 138/180025 [00:04<1:39:16, 30.20it/s]"
     ]
    },
    {
     "name": "stdout",
     "output_type": "stream",
     "text": [
      "printer\n",
      "VOCATIONAL REHABILITATION SERVICES\n",
      "Pre-Existing Training Services\n",
      "MISC FOOD ITEMS\n",
      "Fire Engine\n",
      "copier\n",
      "Bread\n",
      "servers\n",
      "Food Items\n"
     ]
    },
    {
     "name": "stderr",
     "output_type": "stream",
     "text": [
      "  0%|                                                                           | 146/180025 [00:04<2:04:23, 24.10it/s]"
     ]
    },
    {
     "name": "stdout",
     "output_type": "stream",
     "text": [
      "Toner Cartridge\n",
      "C.O. 002\n",
      "GLOSS PAPER\n",
      "Software maintenance\n",
      "ASPHALT\n",
      "Ammunition\n"
     ]
    },
    {
     "name": "stderr",
     "output_type": "stream",
     "text": [
      "\r",
      "  0%|                                                                           | 149/180025 [00:04<2:10:13, 23.02it/s]"
     ]
    },
    {
     "name": "stdout",
     "output_type": "stream",
     "text": [
      "SOFTWARE SUPPORT\n",
      "GLOVES\n",
      "Legal\n",
      "Subscription\n"
     ]
    },
    {
     "name": "stderr",
     "output_type": "stream",
     "text": [
      "  0%|                                                                           | 158/180025 [00:05<1:56:15, 25.78it/s]"
     ]
    },
    {
     "name": "stdout",
     "output_type": "stream",
     "text": [
      "cereal\n",
      "Local Assistance for HIV/AIDS Services\n",
      "Amendment No 1\n",
      "Pest Control Services\n",
      "Consulting Services\n",
      "CHICKEN\n",
      "emulsion\n"
     ]
    },
    {
     "name": "stderr",
     "output_type": "stream",
     "text": [
      "  0%|                                                                           | 161/180025 [00:05<1:40:15, 29.90it/s]"
     ]
    },
    {
     "name": "stdout",
     "output_type": "stream",
     "text": [
      "Copier\n",
      "beef\n",
      "coffee\n",
      "C.O. 003\n",
      "IT Consulting Services\n"
     ]
    },
    {
     "name": "stderr",
     "output_type": "stream",
     "text": [
      "\n"
     ]
    },
    {
     "ename": "TypeError",
     "evalue": "'<' not supported between instances of 'str' and 'float'",
     "output_type": "error",
     "traceback": [
      "\u001b[1;31m---------------------------------------------------------------------------\u001b[0m",
      "\u001b[1;31mTypeError\u001b[0m                                 Traceback (most recent call last)",
      "\u001b[1;32m<ipython-input-8-3c51c021195c>\u001b[0m in \u001b[0;36m<module>\u001b[1;34m\u001b[0m\n\u001b[0;32m      1\u001b[0m \u001b[1;32mfor\u001b[0m \u001b[0mi\u001b[0m \u001b[1;32min\u001b[0m \u001b[0mtqdm\u001b[0m\u001b[1;33m(\u001b[0m\u001b[0mgb_object\u001b[0m\u001b[1;33m.\u001b[0m\u001b[0mindex\u001b[0m\u001b[1;33m.\u001b[0m\u001b[0mvalues\u001b[0m\u001b[1;33m)\u001b[0m\u001b[1;33m:\u001b[0m\u001b[1;33m\u001b[0m\u001b[1;33m\u001b[0m\u001b[0m\n\u001b[0;32m      2\u001b[0m     \u001b[0mprint\u001b[0m\u001b[1;33m(\u001b[0m\u001b[0mi\u001b[0m\u001b[1;33m)\u001b[0m\u001b[1;33m\u001b[0m\u001b[1;33m\u001b[0m\u001b[0m\n\u001b[1;32m----> 3\u001b[1;33m     \u001b[0mx\u001b[0m \u001b[1;33m=\u001b[0m \u001b[1;33m(\u001b[0m\u001b[0mlen\u001b[0m\u001b[1;33m(\u001b[0m\u001b[0mnp\u001b[0m\u001b[1;33m.\u001b[0m\u001b[0munique\u001b[0m\u001b[1;33m(\u001b[0m\u001b[0mvendor_invoice\u001b[0m\u001b[1;33m[\u001b[0m\u001b[1;34m'Vendor'\u001b[0m\u001b[1;33m]\u001b[0m\u001b[1;33m[\u001b[0m\u001b[0mvendor_invoice\u001b[0m\u001b[1;33m[\u001b[0m\u001b[1;34m'Item'\u001b[0m\u001b[1;33m]\u001b[0m \u001b[1;33m==\u001b[0m \u001b[0mi\u001b[0m\u001b[1;33m]\u001b[0m\u001b[1;33m)\u001b[0m\u001b[1;33m)\u001b[0m\u001b[1;33m)\u001b[0m\u001b[1;33m\u001b[0m\u001b[1;33m\u001b[0m\u001b[0m\n\u001b[0m",
      "\u001b[1;32m<__array_function__ internals>\u001b[0m in \u001b[0;36munique\u001b[1;34m(*args, **kwargs)\u001b[0m\n",
      "\u001b[1;32m~\\Anaconda3\\lib\\site-packages\\numpy\\lib\\arraysetops.py\u001b[0m in \u001b[0;36munique\u001b[1;34m(ar, return_index, return_inverse, return_counts, axis)\u001b[0m\n\u001b[0;32m    260\u001b[0m     \u001b[0mar\u001b[0m \u001b[1;33m=\u001b[0m \u001b[0mnp\u001b[0m\u001b[1;33m.\u001b[0m\u001b[0masanyarray\u001b[0m\u001b[1;33m(\u001b[0m\u001b[0mar\u001b[0m\u001b[1;33m)\u001b[0m\u001b[1;33m\u001b[0m\u001b[1;33m\u001b[0m\u001b[0m\n\u001b[0;32m    261\u001b[0m     \u001b[1;32mif\u001b[0m \u001b[0maxis\u001b[0m \u001b[1;32mis\u001b[0m \u001b[1;32mNone\u001b[0m\u001b[1;33m:\u001b[0m\u001b[1;33m\u001b[0m\u001b[1;33m\u001b[0m\u001b[0m\n\u001b[1;32m--> 262\u001b[1;33m         \u001b[0mret\u001b[0m \u001b[1;33m=\u001b[0m \u001b[0m_unique1d\u001b[0m\u001b[1;33m(\u001b[0m\u001b[0mar\u001b[0m\u001b[1;33m,\u001b[0m \u001b[0mreturn_index\u001b[0m\u001b[1;33m,\u001b[0m \u001b[0mreturn_inverse\u001b[0m\u001b[1;33m,\u001b[0m \u001b[0mreturn_counts\u001b[0m\u001b[1;33m)\u001b[0m\u001b[1;33m\u001b[0m\u001b[1;33m\u001b[0m\u001b[0m\n\u001b[0m\u001b[0;32m    263\u001b[0m         \u001b[1;32mreturn\u001b[0m \u001b[0m_unpack_tuple\u001b[0m\u001b[1;33m(\u001b[0m\u001b[0mret\u001b[0m\u001b[1;33m)\u001b[0m\u001b[1;33m\u001b[0m\u001b[1;33m\u001b[0m\u001b[0m\n\u001b[0;32m    264\u001b[0m \u001b[1;33m\u001b[0m\u001b[0m\n",
      "\u001b[1;32m~\\Anaconda3\\lib\\site-packages\\numpy\\lib\\arraysetops.py\u001b[0m in \u001b[0;36m_unique1d\u001b[1;34m(ar, return_index, return_inverse, return_counts)\u001b[0m\n\u001b[0;32m    308\u001b[0m         \u001b[0maux\u001b[0m \u001b[1;33m=\u001b[0m \u001b[0mar\u001b[0m\u001b[1;33m[\u001b[0m\u001b[0mperm\u001b[0m\u001b[1;33m]\u001b[0m\u001b[1;33m\u001b[0m\u001b[1;33m\u001b[0m\u001b[0m\n\u001b[0;32m    309\u001b[0m     \u001b[1;32melse\u001b[0m\u001b[1;33m:\u001b[0m\u001b[1;33m\u001b[0m\u001b[1;33m\u001b[0m\u001b[0m\n\u001b[1;32m--> 310\u001b[1;33m         \u001b[0mar\u001b[0m\u001b[1;33m.\u001b[0m\u001b[0msort\u001b[0m\u001b[1;33m(\u001b[0m\u001b[1;33m)\u001b[0m\u001b[1;33m\u001b[0m\u001b[1;33m\u001b[0m\u001b[0m\n\u001b[0m\u001b[0;32m    311\u001b[0m         \u001b[0maux\u001b[0m \u001b[1;33m=\u001b[0m \u001b[0mar\u001b[0m\u001b[1;33m\u001b[0m\u001b[1;33m\u001b[0m\u001b[0m\n\u001b[0;32m    312\u001b[0m     \u001b[0mmask\u001b[0m \u001b[1;33m=\u001b[0m \u001b[0mnp\u001b[0m\u001b[1;33m.\u001b[0m\u001b[0mempty\u001b[0m\u001b[1;33m(\u001b[0m\u001b[0maux\u001b[0m\u001b[1;33m.\u001b[0m\u001b[0mshape\u001b[0m\u001b[1;33m,\u001b[0m \u001b[0mdtype\u001b[0m\u001b[1;33m=\u001b[0m\u001b[0mnp\u001b[0m\u001b[1;33m.\u001b[0m\u001b[0mbool_\u001b[0m\u001b[1;33m)\u001b[0m\u001b[1;33m\u001b[0m\u001b[1;33m\u001b[0m\u001b[0m\n",
      "\u001b[1;31mTypeError\u001b[0m: '<' not supported between instances of 'str' and 'float'"
     ]
    }
   ],
   "source": [
    "for i in tqdm(gb_object.index.values):\n",
    "    print(i)\n",
    "    x = (len(np.unique(vendor_invoice['Vendor'][vendor_invoice['Item'] == i])))"
   ]
  },
  {
   "cell_type": "code",
   "execution_count": null,
   "metadata": {},
   "outputs": [],
   "source": []
  },
  {
   "cell_type": "code",
   "execution_count": null,
   "metadata": {},
   "outputs": [],
   "source": []
  },
  {
   "cell_type": "code",
   "execution_count": null,
   "metadata": {},
   "outputs": [],
   "source": []
  },
  {
   "cell_type": "code",
   "execution_count": null,
   "metadata": {},
   "outputs": [],
   "source": []
  },
  {
   "cell_type": "code",
   "execution_count": 2,
   "metadata": {
    "ExecuteTime": {
     "end_time": "2020-02-19T08:00:20.693589Z",
     "start_time": "2020-02-19T08:00:20.466720Z"
    }
   },
   "outputs": [
    {
     "name": "stdout",
     "output_type": "stream",
     "text": [
      "(12502, 15)\n",
      "(104, 15)\n"
     ]
    }
   ],
   "source": [
    "kyd_year = pd.read_csv('C:/Users/karthik/Documents/GitHub/Forty4Hz_Flask/red_flags/kyd-combinations-year.csv')\n",
    "print(kyd_year.shape)\n",
    "kyd_year = kyd_year.sort_values(by=['no_of_outliers'], axis=0)\n",
    "# kyd_year = kyd_year[:50]\n",
    "kyd_year = kyd_year[kyd_year['no_of_outliers'] > 800]\n",
    "print(kyd_year.shape)\n",
    "kyd_quarter = pd.read_csv('C:/Users/karthik/Documents/GitHub/Forty4Hz_Flask/red_flags/kyd-combinations-quarter.csv')\n",
    "kyd_month = pd.read_csv('C:/Users/karthik/Documents/GitHub/Forty4Hz_Flask/red_flags/kyd-combinations-month.csv')\n"
   ]
  },
  {
   "cell_type": "code",
   "execution_count": 7,
   "metadata": {
    "ExecuteTime": {
     "end_time": "2020-02-19T08:03:14.344510Z",
     "start_time": "2020-02-19T08:03:14.326518Z"
    }
   },
   "outputs": [],
   "source": [
    "def trending_analysis(Analysis_Input):\n",
    "\n",
    "    keys = []\n",
    "    values = []\n",
    "    by_dimension_query_part = []\n",
    "\n",
    "    for key, value in Analysis_Input['dimension'].items():\n",
    "        \n",
    "        keys.append(key)\n",
    "        values.append(value)\n",
    "    \n",
    "        for sub_value in value:\n",
    "            if not value.index(sub_value) == len(value)-1:\n",
    "                by_dimension_query_part.append(f\"{key} = '{sub_value}'\")\n",
    "            else:\n",
    "                by_dimension_query_part.append(f\"{key} = '{sub_value}'\")\n",
    "    \n",
    "    by_dimension_query_part = \" and \".join([i for i in by_dimension_query_part])\n",
    "    by_dimension_query_part = \"and \"+by_dimension_query_part\n",
    "\n",
    "    #handling the measure part\n",
    "    \n",
    "    formula = select_df.loc[select_df['Select'] == Analysis_Input['measure'][0], 'Formula'].iloc[0]\n",
    "    table_select_belongs_to = select_df.loc[select_df['Select'] == Analysis_Input['measure'][0], 'Table_Select_Belongs_To'].iloc[0]\n",
    "    time_dimension = select_df.loc[select_df['Select'] == Analysis_Input['measure'][0], 'Time_Dimension_1'].iloc[0]\n",
    "    string_table = tables_string_map[int(table_select_belongs_to)]\n",
    "    mapped_table = tables_map[int(table_select_belongs_to)]\n",
    "    print(mapped_table[time_dimension])\n",
    "    copy_of_mapped_table = mapped_table\n",
    "\n",
    "#     mapped_table[time_dimension] = (pd.to_datetime(mapped_table[time_dimension]))\n",
    "#     latest_year = max(pd.DatetimeIndex(mapped_table[time_dimension]).year.tolist())\n",
    "#     mapped_table = mapped_table[mapped_table[time_dimension].dt.year == latest_year]\n",
    "#     latest_month = (max(mapped_table[time_dimension].dt.month))\n",
    "#     latest_quarter = (max(mapped_table[time_dimension].dt.quarter))\n",
    "    \n",
    "#     print(latest_year)\n",
    "#     print(latest_quarter)\n",
    "#     print(latest_month)\n",
    "    sys.exit()\n",
    "\n",
    "\n",
    "    if Analysis_Input['time_frame'][0] == 'year':\n",
    "        \n",
    "        #getting year, quarter, month values\n",
    "        print(copy_of_mapped_table.shape)\n",
    "        copy_of_mapped_table[time_dimension] = pd.to_datetime(mapped_table[time_dimension])\n",
    "        year_values = mapped_table[time_dimension].dt.year\n",
    "        quarter_values = mapped_table[time_dimension].dt.quarter\n",
    "        month_values = mapped_table[time_dimension].dt.month\n",
    "        \n",
    "        copy_of_mapped_table['year'] = year_values\n",
    "        copy_of_mapped_table['quarter'] = quarter_values\n",
    "        copy_of_mapped_table['month'] = month_values\n",
    "        \n",
    "        year_groupby = copy_of_mapped_table.groupby(by=['year'], as_index=True).agg({formula:sum})\n",
    "        print(year_groupby.head())\n",
    "\n",
    "\n",
    "\n",
    "    elif Analysis_Input['time_frame'] == 'quarter':\n",
    "        pass\n",
    "\n",
    "\n",
    "\n",
    "    elif Analysis_Input['time_frame'] == 'month':\n",
    "        pass"
   ]
  },
  {
   "cell_type": "code",
   "execution_count": 8,
   "metadata": {
    "ExecuteTime": {
     "end_time": "2020-02-19T08:03:22.731701Z",
     "start_time": "2020-02-19T08:03:22.709711Z"
    },
    "scrolled": false
   },
   "outputs": [
    {
     "name": "stdout",
     "output_type": "stream",
     "text": [
      "Price is measure\n",
      "Category_Level_1 is dim\n",
      "Healthcare Services is dim val\n",
      "0         2017-07-03\n",
      "1         2017-10-22\n",
      "2         2017-12-28\n",
      "3         2017-11-09\n",
      "4         2017-11-13\n",
      "             ...    \n",
      "345966    2020-04-25\n",
      "345967    2020-03-13\n",
      "345968    2020-04-17\n",
      "345969    2020-03-21\n",
      "345970    2020-05-17\n",
      "Name: Invoice_Issue_Date, Length: 345971, dtype: object\n"
     ]
    },
    {
     "ename": "SystemExit",
     "evalue": "",
     "output_type": "error",
     "traceback": [
      "An exception has occurred, use %tb to see the full traceback.\n",
      "\u001b[1;31mSystemExit\u001b[0m\n"
     ]
    },
    {
     "name": "stderr",
     "output_type": "stream",
     "text": [
      "C:\\Users\\karthik\\Anaconda3\\lib\\site-packages\\IPython\\core\\interactiveshell.py:3327: UserWarning: To exit: use 'exit', 'quit', or Ctrl-D.\n",
      "  warn(\"To exit: use 'exit', 'quit', or Ctrl-D.\", stacklevel=1)\n"
     ]
    }
   ],
   "source": [
    "for measure, dim, dim_val in (zip(kyd_year['select'].values, kyd_year['distinct'].values, kyd_year['by_dim'].values)):\n",
    "    \n",
    "    print(measure, 'is measure')\n",
    "    print(dim, 'is dim')\n",
    "    print(dim_val, 'is dim val')\n",
    "    \n",
    "    dummy_insights_input = {\n",
    "        'measure':[measure],\n",
    "        'dimension':{\n",
    "            dim:[dim_val]\n",
    "        },\n",
    "        'time_frame':['year']\n",
    "    }\n",
    "\n",
    "    trending_analysis(dummy_insights_input)\n",
    "    sys.exit()\n"
   ]
  },
  {
   "cell_type": "code",
   "execution_count": 3,
   "metadata": {
    "ExecuteTime": {
     "end_time": "2020-02-19T08:00:29.713975Z",
     "start_time": "2020-02-19T08:00:29.710975Z"
    }
   },
   "outputs": [],
   "source": [
    "Analysis_Input = {\n",
    "    'measure':['Price'],\n",
    "    'dimension':{\n",
    "        'Category_Level_1':['Healthcare Services']\n",
    "    },\n",
    "    'time_frame':['year']\n",
    "}"
   ]
  },
  {
   "cell_type": "code",
   "execution_count": 26,
   "metadata": {
    "ExecuteTime": {
     "end_time": "2020-02-19T08:38:54.363367Z",
     "start_time": "2020-02-19T08:38:54.350375Z"
    }
   },
   "outputs": [
    {
     "name": "stdout",
     "output_type": "stream",
     "text": [
      "(345971, 38)\n"
     ]
    }
   ],
   "source": [
    "formula = select_df.loc[select_df['Select'] == Analysis_Input['measure'][0], 'Formula'].iloc[0]\n",
    "table_select_belongs_to = select_df.loc[select_df['Select'] == Analysis_Input['measure'][0], 'Table_Select_Belongs_To'].iloc[0]\n",
    "time_dimension = select_df.loc[select_df['Select'] == Analysis_Input['measure'][0], 'Time_Dimension_1'].iloc[0]\n",
    "string_table = tables_string_map[int(table_select_belongs_to)]\n",
    "mapped_table = tables_map[int(table_select_belongs_to)]\n",
    "copy_of_mapped_table = mapped_table\n",
    "print(copy_of_mapped_table.shape)"
   ]
  },
  {
   "cell_type": "code",
   "execution_count": 24,
   "metadata": {
    "ExecuteTime": {
     "end_time": "2020-02-19T08:36:16.327737Z",
     "start_time": "2020-02-19T08:36:15.552984Z"
    }
   },
   "outputs": [],
   "source": [
    "copy_of_mapped_table['year'] = pd.DatetimeIndex(copy_of_mapped_table[time_dimension]).year\n",
    "copy_of_mapped_table['quarter'] = pd.DatetimeIndex(copy_of_mapped_table[time_dimension]).quarter\n",
    "copy_of_mapped_table['month'] = pd.DatetimeIndex(copy_of_mapped_table[time_dimension]).month"
   ]
  },
  {
   "cell_type": "code",
   "execution_count": 27,
   "metadata": {
    "ExecuteTime": {
     "end_time": "2020-02-19T08:39:06.164845Z",
     "start_time": "2020-02-19T08:39:06.100859Z"
    }
   },
   "outputs": [
    {
     "name": "stdout",
     "output_type": "stream",
     "text": [
      "(7977, 38)\n"
     ]
    }
   ],
   "source": [
    "copy_of_mapped_table = copy_of_mapped_table[copy_of_mapped_table[dim] == dim_val]\n",
    "print(copy_of_mapped_table.shape)"
   ]
  },
  {
   "cell_type": "code",
   "execution_count": 34,
   "metadata": {
    "ExecuteTime": {
     "end_time": "2020-02-19T08:49:08.714385Z",
     "start_time": "2020-02-19T08:49:08.697394Z"
    }
   },
   "outputs": [],
   "source": [
    "copy_of_mapped_table = copy_of_mapped_table.groupby(by=['year','month'], as_index=True).agg({formula:sum})"
   ]
  },
  {
   "cell_type": "code",
   "execution_count": 70,
   "metadata": {
    "ExecuteTime": {
     "end_time": "2020-02-19T11:49:04.024393Z",
     "start_time": "2020-02-19T11:49:04.004424Z"
    }
   },
   "outputs": [
    {
     "data": {
      "text/html": [
       "<div>\n",
       "<style scoped>\n",
       "    .dataframe tbody tr th:only-of-type {\n",
       "        vertical-align: middle;\n",
       "    }\n",
       "\n",
       "    .dataframe tbody tr th {\n",
       "        vertical-align: top;\n",
       "    }\n",
       "\n",
       "    .dataframe thead th {\n",
       "        text-align: right;\n",
       "    }\n",
       "</style>\n",
       "<table border=\"1\" class=\"dataframe\">\n",
       "  <thead>\n",
       "    <tr style=\"text-align: right;\">\n",
       "      <th></th>\n",
       "      <th></th>\n",
       "      <th>Unit_Price_In_USD</th>\n",
       "    </tr>\n",
       "    <tr>\n",
       "      <th>year</th>\n",
       "      <th>month</th>\n",
       "      <th></th>\n",
       "    </tr>\n",
       "  </thead>\n",
       "  <tbody>\n",
       "    <tr>\n",
       "      <th rowspan=\"7\" valign=\"top\">2017</th>\n",
       "      <th>6</th>\n",
       "      <td>2.377587e+08</td>\n",
       "    </tr>\n",
       "    <tr>\n",
       "      <th>7</th>\n",
       "      <td>7.651349e+09</td>\n",
       "    </tr>\n",
       "    <tr>\n",
       "      <th>8</th>\n",
       "      <td>1.357464e+09</td>\n",
       "    </tr>\n",
       "    <tr>\n",
       "      <th>9</th>\n",
       "      <td>8.670937e+08</td>\n",
       "    </tr>\n",
       "    <tr>\n",
       "      <th>10</th>\n",
       "      <td>1.509055e+09</td>\n",
       "    </tr>\n",
       "    <tr>\n",
       "      <th>11</th>\n",
       "      <td>3.315610e+08</td>\n",
       "    </tr>\n",
       "    <tr>\n",
       "      <th>12</th>\n",
       "      <td>1.136595e+08</td>\n",
       "    </tr>\n",
       "    <tr>\n",
       "      <th rowspan=\"12\" valign=\"top\">2018</th>\n",
       "      <th>1</th>\n",
       "      <td>3.179953e+08</td>\n",
       "    </tr>\n",
       "    <tr>\n",
       "      <th>2</th>\n",
       "      <td>8.255697e+08</td>\n",
       "    </tr>\n",
       "    <tr>\n",
       "      <th>3</th>\n",
       "      <td>2.262921e+10</td>\n",
       "    </tr>\n",
       "    <tr>\n",
       "      <th>4</th>\n",
       "      <td>8.044021e+09</td>\n",
       "    </tr>\n",
       "    <tr>\n",
       "      <th>5</th>\n",
       "      <td>4.818663e+09</td>\n",
       "    </tr>\n",
       "    <tr>\n",
       "      <th>6</th>\n",
       "      <td>3.681437e+09</td>\n",
       "    </tr>\n",
       "    <tr>\n",
       "      <th>7</th>\n",
       "      <td>4.387682e+08</td>\n",
       "    </tr>\n",
       "    <tr>\n",
       "      <th>8</th>\n",
       "      <td>3.453140e+09</td>\n",
       "    </tr>\n",
       "    <tr>\n",
       "      <th>9</th>\n",
       "      <td>4.353835e+09</td>\n",
       "    </tr>\n",
       "    <tr>\n",
       "      <th>10</th>\n",
       "      <td>1.153983e+09</td>\n",
       "    </tr>\n",
       "    <tr>\n",
       "      <th>11</th>\n",
       "      <td>5.599472e+08</td>\n",
       "    </tr>\n",
       "    <tr>\n",
       "      <th>12</th>\n",
       "      <td>1.817992e+08</td>\n",
       "    </tr>\n",
       "    <tr>\n",
       "      <th rowspan=\"12\" valign=\"top\">2019</th>\n",
       "      <th>1</th>\n",
       "      <td>8.040049e+07</td>\n",
       "    </tr>\n",
       "    <tr>\n",
       "      <th>2</th>\n",
       "      <td>3.692023e+09</td>\n",
       "    </tr>\n",
       "    <tr>\n",
       "      <th>3</th>\n",
       "      <td>4.142154e+09</td>\n",
       "    </tr>\n",
       "    <tr>\n",
       "      <th>4</th>\n",
       "      <td>2.448653e+09</td>\n",
       "    </tr>\n",
       "    <tr>\n",
       "      <th>5</th>\n",
       "      <td>2.473136e+08</td>\n",
       "    </tr>\n",
       "    <tr>\n",
       "      <th>6</th>\n",
       "      <td>9.804310e+09</td>\n",
       "    </tr>\n",
       "    <tr>\n",
       "      <th>7</th>\n",
       "      <td>4.942865e+08</td>\n",
       "    </tr>\n",
       "    <tr>\n",
       "      <th>8</th>\n",
       "      <td>1.307311e+09</td>\n",
       "    </tr>\n",
       "    <tr>\n",
       "      <th>9</th>\n",
       "      <td>4.542002e+08</td>\n",
       "    </tr>\n",
       "    <tr>\n",
       "      <th>10</th>\n",
       "      <td>7.864163e+08</td>\n",
       "    </tr>\n",
       "    <tr>\n",
       "      <th>11</th>\n",
       "      <td>4.582435e+08</td>\n",
       "    </tr>\n",
       "    <tr>\n",
       "      <th>12</th>\n",
       "      <td>8.440235e+08</td>\n",
       "    </tr>\n",
       "    <tr>\n",
       "      <th rowspan=\"6\" valign=\"top\">2020</th>\n",
       "      <th>1</th>\n",
       "      <td>1.216044e+09</td>\n",
       "    </tr>\n",
       "    <tr>\n",
       "      <th>2</th>\n",
       "      <td>2.202569e+09</td>\n",
       "    </tr>\n",
       "    <tr>\n",
       "      <th>3</th>\n",
       "      <td>2.663800e+08</td>\n",
       "    </tr>\n",
       "    <tr>\n",
       "      <th>4</th>\n",
       "      <td>9.687704e+09</td>\n",
       "    </tr>\n",
       "    <tr>\n",
       "      <th>5</th>\n",
       "      <td>6.697867e+09</td>\n",
       "    </tr>\n",
       "    <tr>\n",
       "      <th>6</th>\n",
       "      <td>4.290600e+09</td>\n",
       "    </tr>\n",
       "  </tbody>\n",
       "</table>\n",
       "</div>"
      ],
      "text/plain": [
       "            Unit_Price_In_USD\n",
       "year month                   \n",
       "2017 6           2.377587e+08\n",
       "     7           7.651349e+09\n",
       "     8           1.357464e+09\n",
       "     9           8.670937e+08\n",
       "     10          1.509055e+09\n",
       "     11          3.315610e+08\n",
       "     12          1.136595e+08\n",
       "2018 1           3.179953e+08\n",
       "     2           8.255697e+08\n",
       "     3           2.262921e+10\n",
       "     4           8.044021e+09\n",
       "     5           4.818663e+09\n",
       "     6           3.681437e+09\n",
       "     7           4.387682e+08\n",
       "     8           3.453140e+09\n",
       "     9           4.353835e+09\n",
       "     10          1.153983e+09\n",
       "     11          5.599472e+08\n",
       "     12          1.817992e+08\n",
       "2019 1           8.040049e+07\n",
       "     2           3.692023e+09\n",
       "     3           4.142154e+09\n",
       "     4           2.448653e+09\n",
       "     5           2.473136e+08\n",
       "     6           9.804310e+09\n",
       "     7           4.942865e+08\n",
       "     8           1.307311e+09\n",
       "     9           4.542002e+08\n",
       "     10          7.864163e+08\n",
       "     11          4.582435e+08\n",
       "     12          8.440235e+08\n",
       "2020 1           1.216044e+09\n",
       "     2           2.202569e+09\n",
       "     3           2.663800e+08\n",
       "     4           9.687704e+09\n",
       "     5           6.697867e+09\n",
       "     6           4.290600e+09"
      ]
     },
     "execution_count": 70,
     "metadata": {},
     "output_type": "execute_result"
    }
   ],
   "source": [
    "copy_of_mapped_table"
   ]
  },
  {
   "cell_type": "code",
   "execution_count": 69,
   "metadata": {
    "ExecuteTime": {
     "end_time": "2020-02-19T11:48:54.670547Z",
     "start_time": "2020-02-19T11:48:54.663547Z"
    }
   },
   "outputs": [
    {
     "data": {
      "text/plain": [
       "Int64Index([2017, 2017, 2017, 2017, 2017, 2017, 2017, 2018, 2018, 2018, 2018,\n",
       "            2018, 2018, 2018, 2018, 2018, 2018, 2018, 2018, 2019, 2019, 2019,\n",
       "            2019, 2019, 2019, 2019, 2019, 2019, 2019, 2019, 2019, 2020, 2020,\n",
       "            2020, 2020, 2020, 2020],\n",
       "           dtype='int64', name='year')"
      ]
     },
     "execution_count": 69,
     "metadata": {},
     "output_type": "execute_result"
    }
   ],
   "source": [
    "copy_of_mapped_table.index.get_level_values(0)"
   ]
  },
  {
   "cell_type": "code",
   "execution_count": 22,
   "metadata": {},
   "outputs": [],
   "source": [
    "import datetime\n",
    "from sklearn.linear_model import LinearRegression"
   ]
  },
  {
   "cell_type": "code",
   "execution_count": 35,
   "metadata": {},
   "outputs": [
    {
     "data": {
      "text/html": [
       "<div>\n",
       "<style scoped>\n",
       "    .dataframe tbody tr th:only-of-type {\n",
       "        vertical-align: middle;\n",
       "    }\n",
       "\n",
       "    .dataframe tbody tr th {\n",
       "        vertical-align: top;\n",
       "    }\n",
       "\n",
       "    .dataframe thead th {\n",
       "        text-align: right;\n",
       "    }\n",
       "</style>\n",
       "<table border=\"1\" class=\"dataframe\">\n",
       "  <thead>\n",
       "    <tr style=\"text-align: right;\">\n",
       "      <th></th>\n",
       "      <th>year</th>\n",
       "      <th>quarter</th>\n",
       "      <th>month</th>\n",
       "      <th>value</th>\n",
       "    </tr>\n",
       "  </thead>\n",
       "  <tbody>\n",
       "    <tr>\n",
       "      <th>0</th>\n",
       "      <td>0</td>\n",
       "      <td>0</td>\n",
       "      <td>0</td>\n",
       "      <td>1</td>\n",
       "    </tr>\n",
       "    <tr>\n",
       "      <th>1</th>\n",
       "      <td>2018</td>\n",
       "      <td>1</td>\n",
       "      <td>1</td>\n",
       "      <td>2</td>\n",
       "    </tr>\n",
       "    <tr>\n",
       "      <th>2</th>\n",
       "      <td>2019</td>\n",
       "      <td>2</td>\n",
       "      <td>2</td>\n",
       "      <td>3</td>\n",
       "    </tr>\n",
       "    <tr>\n",
       "      <th>3</th>\n",
       "      <td>2020</td>\n",
       "      <td>3</td>\n",
       "      <td>3</td>\n",
       "      <td>4</td>\n",
       "    </tr>\n",
       "  </tbody>\n",
       "</table>\n",
       "</div>"
      ],
      "text/plain": [
       "   year  quarter  month  value\n",
       "0     0        0      0      1\n",
       "1  2018        1      1      2\n",
       "2  2019        2      2      3\n",
       "3  2020        3      3      4"
      ]
     },
     "execution_count": 35,
     "metadata": {},
     "output_type": "execute_result"
    }
   ],
   "source": [
    "df = pd.DataFrame({'year':[0,2018,2019,2020], 'quarter':[0,1,2,3], 'month':[0,1,2,3],'value':[1,2,3,4]})\n",
    "df"
   ]
  },
  {
   "cell_type": "code",
   "execution_count": 49,
   "metadata": {},
   "outputs": [
    {
     "data": {
      "text/html": [
       "<div>\n",
       "<style scoped>\n",
       "    .dataframe tbody tr th:only-of-type {\n",
       "        vertical-align: middle;\n",
       "    }\n",
       "\n",
       "    .dataframe tbody tr th {\n",
       "        vertical-align: top;\n",
       "    }\n",
       "\n",
       "    .dataframe thead th {\n",
       "        text-align: right;\n",
       "    }\n",
       "</style>\n",
       "<table border=\"1\" class=\"dataframe\">\n",
       "  <thead>\n",
       "    <tr style=\"text-align: right;\">\n",
       "      <th></th>\n",
       "      <th>year</th>\n",
       "      <th>quarter</th>\n",
       "      <th>month</th>\n",
       "      <th>value</th>\n",
       "    </tr>\n",
       "  </thead>\n",
       "  <tbody>\n",
       "    <tr>\n",
       "      <th>0</th>\n",
       "      <td>0</td>\n",
       "      <td>0</td>\n",
       "      <td>0</td>\n",
       "      <td>1</td>\n",
       "    </tr>\n",
       "  </tbody>\n",
       "</table>\n",
       "</div>"
      ],
      "text/plain": [
       "   year  quarter  month  value\n",
       "0     0        0      0      1"
      ]
     },
     "execution_count": 49,
     "metadata": {},
     "output_type": "execute_result"
    }
   ],
   "source": [
    "df[df.nunique(1).eq(2)]"
   ]
  },
  {
   "cell_type": "code",
   "execution_count": 29,
   "metadata": {},
   "outputs": [],
   "source": [
    "dates = []\n",
    "for i in range(1,13):\n",
    "    dates.append(datetime.datetime(2018,4,i))"
   ]
  },
  {
   "cell_type": "code",
   "execution_count": 32,
   "metadata": {},
   "outputs": [],
   "source": [
    "first_month = pd.datetime(2020, 1, 1)\n",
    "last_month = pd.datetime(2020, 10, 1)"
   ]
  },
  {
   "cell_type": "code",
   "execution_count": 33,
   "metadata": {},
   "outputs": [
    {
     "data": {
      "text/plain": [
       "Float64Index([2458849.5, 2458880.5, 2458909.5, 2458940.5, 2458970.5, 2459001.5,\n",
       "              2459031.5, 2459062.5, 2459093.5, 2459123.5],\n",
       "             dtype='float64')"
      ]
     },
     "execution_count": 33,
     "metadata": {},
     "output_type": "execute_result"
    }
   ],
   "source": [
    "pd.date_range(start=first_month, end=last_month, freq='MS').to_julian_date()"
   ]
  },
  {
   "cell_type": "code",
   "execution_count": 33,
   "metadata": {},
   "outputs": [],
   "source": [
    "import requests, os, json"
   ]
  },
  {
   "cell_type": "code",
   "execution_count": 23,
   "metadata": {},
   "outputs": [],
   "source": [
    "self_reference = \"http://13.232.213.75:3200\""
   ]
  },
  {
   "cell_type": "code",
   "execution_count": 28,
   "metadata": {},
   "outputs": [],
   "source": [
    "temp_orm_input = {\n",
    "    \"by_dimension_values\": [\"*by_Category_Level_1\"],\n",
    "    \"by_time_dimension_values\": [],\n",
    "    \"conditionals\": [],\n",
    "    \"in_dimension_values\": [],\n",
    "    \"in_time_dimension_values\": [],\n",
    "    \"measures\": [\"~spend\"],\n",
    "    \"operators_prefix\": \"\",\n",
    "    \"operators_suffix\": \"\",\n",
    "    \"others\": [],\n",
    "    \"table_id\": \"5\"\n",
    "}"
   ]
  },
  {
   "cell_type": "code",
   "execution_count": 29,
   "metadata": {},
   "outputs": [],
   "source": [
    "query = str(self_reference) + \"/orm\"\n",
    "response = requests.post(query, json=temp_orm_input)\n",
    "output = response.text"
   ]
  },
  {
   "cell_type": "code",
   "execution_count": 36,
   "metadata": {},
   "outputs": [],
   "source": [
    "json_op = json.loads(output)"
   ]
  },
  {
   "cell_type": "code",
   "execution_count": 37,
   "metadata": {},
   "outputs": [
    {
     "data": {
      "text/plain": [
       "'Select Category_Level_1 as \"Category Level 1\", SUM(Invoice_Amount_In_USD) as \"Spend\" from kaggle_procurement.vendor_invoice group by Category_Level_1 order by Category_Level_1'"
      ]
     },
     "execution_count": 37,
     "metadata": {},
     "output_type": "execute_result"
    }
   ],
   "source": [
    "json_op['query']"
   ]
  }
 ],
 "metadata": {
  "file_extension": ".py",
  "kernelspec": {
   "display_name": "Python 3.7.5 64-bit ('base': conda)",
   "language": "python",
   "name": "python37564bitbaseconda10e44d06387449e2b75c10bd458da545"
  },
  "language_info": {
   "codemirror_mode": {
    "name": "ipython",
    "version": 3
   },
   "file_extension": ".py",
   "mimetype": "text/x-python",
   "name": "python",
   "nbconvert_exporter": "python",
   "pygments_lexer": "ipython3",
   "version": "3.7.5"
  },
  "mimetype": "text/x-python",
  "name": "python",
  "npconvert_exporter": "python",
  "pygments_lexer": "ipython3",
  "varInspector": {
   "cols": {
    "lenName": 16,
    "lenType": 16,
    "lenVar": 40
   },
   "kernels_config": {
    "python": {
     "delete_cmd_postfix": "",
     "delete_cmd_prefix": "del ",
     "library": "var_list.py",
     "varRefreshCmd": "print(var_dic_list())"
    },
    "r": {
     "delete_cmd_postfix": ") ",
     "delete_cmd_prefix": "rm(",
     "library": "var_list.r",
     "varRefreshCmd": "cat(var_dic_list()) "
    }
   },
   "types_to_exclude": [
    "module",
    "function",
    "builtin_function_or_method",
    "instance",
    "_Feature"
   ],
   "window_display": false
  },
  "version": 3
 },
 "nbformat": 4,
 "nbformat_minor": 2
}
